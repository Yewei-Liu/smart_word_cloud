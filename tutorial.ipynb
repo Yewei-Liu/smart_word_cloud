{
 "cells": [
  {
   "cell_type": "markdown",
   "metadata": {},
   "source": [
    "# Tutorial"
   ]
  },
  {
   "cell_type": "code",
   "execution_count": 1,
   "metadata": {},
   "outputs": [],
   "source": [
    "from smartwordcloudgenerator import SmartWordCloudGenerator as swc"
   ]
  },
  {
   "cell_type": "code",
   "execution_count": 2,
   "metadata": {},
   "outputs": [],
   "source": [
    "text_path = 'the little prince.txt'\n",
    "background_path = \"images/background.jpg\"\n",
    "save_path = 'images/'\n",
    "lines = None\n",
    "with open(text_path) as f:\n",
    "    lines = f.readlines()\n",
    "text = \"\".join(lines)"
   ]
  },
  {
   "cell_type": "markdown",
   "metadata": {},
   "source": [
    "naive"
   ]
  },
  {
   "cell_type": "code",
   "execution_count": 3,
   "metadata": {},
   "outputs": [
    {
     "name": "stdout",
     "output_type": "stream",
     "text": [
      "Break because font size are too small.\n",
      "Successfully generated a word cloud of 24 words ~~~\n",
      "Picture saved to images/naive.png\n"
     ]
    }
   ],
   "source": [
    "gen = swc()\n",
    "gen.add_text(text)\n",
    "gen.generate(save_path=save_path + 'naive.png')"
   ]
  },
  {
   "cell_type": "markdown",
   "metadata": {},
   "source": [
    "add background"
   ]
  },
  {
   "cell_type": "code",
   "execution_count": 4,
   "metadata": {},
   "outputs": [
    {
     "name": "stdout",
     "output_type": "stream",
     "text": [
      "Break because font size are too small.\n",
      "Successfully generated a word cloud of 24 words ~~~\n",
      "Picture saved to images/background.png\n"
     ]
    }
   ],
   "source": [
    "gen = swc()\n",
    "gen.add_text(text)\n",
    "gen.generate(save_path=save_path + 'background.png', background_path=background_path)"
   ]
  },
  {
   "cell_type": "markdown",
   "metadata": {},
   "source": [
    "change word size"
   ]
  },
  {
   "cell_type": "code",
   "execution_count": 5,
   "metadata": {},
   "outputs": [
    {
     "name": "stdout",
     "output_type": "stream",
     "text": [
      "Break because no space to draw more words.\n",
      "Successfully generated a word cloud of 5 words ~~~\n",
      "Picture saved to images/big.png\n"
     ]
    }
   ],
   "source": [
    "biggen = swc()\n",
    "biggen.add_text(text)\n",
    "biggen.generate(save_path=save_path + 'big.png', background_path=background_path, max_font_size=100)"
   ]
  },
  {
   "cell_type": "code",
   "execution_count": 9,
   "metadata": {},
   "outputs": [
    {
     "name": "stdout",
     "output_type": "stream",
     "text": [
      "Break because reach the limit of maximum word numbers.\n",
      "Successfully generated a word cloud of 50 words ~~~\n",
      "Picture saved to images/small.png\n"
     ]
    }
   ],
   "source": [
    "smallgen = swc()\n",
    "smallgen.add_text(text)\n",
    "smallgen.generate(save_path=save_path + 'small.png', background_path=background_path, max_font_size=20, min_font_size=20, momentum=1, max_words=50)"
   ]
  },
  {
   "cell_type": "markdown",
   "metadata": {},
   "source": [
    "Focus on certain word and words around them. Or ignore."
   ]
  },
  {
   "cell_type": "code",
   "execution_count": 12,
   "metadata": {},
   "outputs": [
    {
     "name": "stdout",
     "output_type": "stream",
     "text": [
      "Break because font size are too small.\n",
      "Successfully generated a word cloud of 29 words ~~~\n",
      "Picture saved to images/stopword.png\n"
     ]
    }
   ],
   "source": [
    "# I don't want to see words 'little' and 'prince'\n",
    "gen = swc()\n",
    "gen.add_text(text)\n",
    "gen.add_stopword('little')\n",
    "gen.add_stopword('prince')\n",
    "gen.generate(save_path=save_path + 'stopword.png', background_path=background_path)"
   ]
  },
  {
   "cell_type": "code",
   "execution_count": 14,
   "metadata": {},
   "outputs": [
    {
     "name": "stdout",
     "output_type": "stream",
     "text": [
      "Break because font size are too small.\n",
      "Successfully generated a word cloud of 24 words ~~~\n",
      "Picture saved to images/flower.png\n"
     ]
    }
   ],
   "source": [
    "# I want to focus on flower and words around it.\n",
    "gen = swc()\n",
    "focus = {'flower': 10}\n",
    "gen.add_text(text, focus=focus)\n",
    "gen.add_stopword('little')\n",
    "gen.add_stopword('prince')\n",
    "gen.generate(save_path=save_path + 'flower.png', background_path=background_path, font_size_func=lambda x: x**0.5)"
   ]
  },
  {
   "cell_type": "code",
   "execution_count": 15,
   "metadata": {},
   "outputs": [
    {
     "name": "stdout",
     "output_type": "stream",
     "text": [
      "Break because no space to draw more words.\n",
      "Successfully generated a word cloud of 24 words ~~~\n",
      "Picture saved to images/noflower.png\n"
     ]
    }
   ],
   "source": [
    "# I want to ignore flower and words around it\n",
    "gen = swc()\n",
    "focus = {'flower': -1}\n",
    "gen.add_text(text, focus=focus)\n",
    "gen.add_stopword('little')\n",
    "gen.add_stopword('prince')\n",
    "gen.generate(save_path=save_path + 'noflower.png', background_path=background_path)"
   ]
  },
  {
   "cell_type": "markdown",
   "metadata": {},
   "source": [
    "Advanced setups"
   ]
  },
  {
   "cell_type": "code",
   "execution_count": 16,
   "metadata": {},
   "outputs": [],
   "source": [
    "# nlp_improvement: using nltk package to treat similar words as the same. \n",
    "# For example, 'apple' and 'apples' should be the same.\n",
    "# Default is True, if False, will not use this improvement.\n",
    "gen = swc(nlp_improvement=False)\n",
    "\n",
    "# Default stopwords: The default is true, add some common meaningless stopwords.\n",
    "# Otherwise, don't add any stopwords at begin.\n",
    "gen = swc(default_stopwords=False)"
   ]
  }
 ],
 "metadata": {
  "kernelspec": {
   "display_name": "trial",
   "language": "python",
   "name": "python3"
  },
  "language_info": {
   "codemirror_mode": {
    "name": "ipython",
    "version": 3
   },
   "file_extension": ".py",
   "mimetype": "text/x-python",
   "name": "python",
   "nbconvert_exporter": "python",
   "pygments_lexer": "ipython3",
   "version": "3.13.1"
  }
 },
 "nbformat": 4,
 "nbformat_minor": 2
}
